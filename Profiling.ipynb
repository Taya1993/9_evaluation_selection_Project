{
 "cells": [
  {
   "cell_type": "code",
   "execution_count": 1,
   "id": "b24ebd14",
   "metadata": {},
   "outputs": [
    {
     "name": "stderr",
     "output_type": "stream",
     "text": [
      "C:\\Users\\t.titova\\AppData\\Roaming\\Python\\Python39\\site-packages\\missingno\\missingno.py:254: UserWarning: FixedFormatter should only be used together with FixedLocator\n",
      "  ax1.set_xticklabels(\n",
      "C:\\Users\\t.titova\\AppData\\Roaming\\Python\\Python39\\site-packages\\pandas_profiling\\model\\missing.py:89: UserWarning: There was an attempt to generate the Count missing values diagrams, but this failed.\n",
      "To hide this warning, disable the calculation\n",
      "(using `df.profile_report(missing_diagrams={\"Count\": False}`)\n",
      "If this is problematic for your use case, please report this as an issue:\n",
      "https://github.com/pandas-profiling/pandas-profiling/issues\n",
      "(include the error message: 'The number of FixedLocator locations (7), usually from a call to set_ticks, does not match the number of ticklabels (56).')\n",
      "  warnings.warn(\n"
     ]
    }
   ],
   "source": [
    "# импорт библиотек\n",
    "import pandas as pd\n",
    "import pandas_profiling\n",
    "\n",
    "# загружаем датасет\n",
    "df = pd.read_csv('data/train.csv')\n",
    "\n",
    "# создаём отчёт\n",
    "profile = df.profile_report(title='Pandas Profiling Report', progress_bar=False)\n",
    "# смотрим отчёт в HTML формате\n",
    "profile.to_file(\"DataFrameProfile.html\")"
   ]
  },
  {
   "cell_type": "code",
   "execution_count": null,
   "id": "8c6c5187",
   "metadata": {},
   "outputs": [],
   "source": []
  }
 ],
 "metadata": {
  "kernelspec": {
   "display_name": "Python 3 (ipykernel)",
   "language": "python",
   "name": "python3"
  },
  "language_info": {
   "codemirror_mode": {
    "name": "ipython",
    "version": 3
   },
   "file_extension": ".py",
   "mimetype": "text/x-python",
   "name": "python",
   "nbconvert_exporter": "python",
   "pygments_lexer": "ipython3",
   "version": "3.9.7"
  }
 },
 "nbformat": 4,
 "nbformat_minor": 5
}
